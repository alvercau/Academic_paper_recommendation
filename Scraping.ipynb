{
 "cells": [
  {
   "cell_type": "markdown",
   "metadata": {},
   "source": [
    "# Scraping Lingbuzz\n",
    "\n",
    "[LingBuzz](https://ling.auf.net/) is an openly accessible repository of scholarly papers, discussions and other documents for linguistics. \n",
    "The choice for this resource is of a practical nature:\n",
    "* Lingbuzz compiles a lot of linguistics papers (old and new, published or in process of publication), which permits scraping without having to jump all over the internet in search of open source papers.\n",
    "* Authors voluntarily submit their papers to Lingbuzz, no [money](https://www.theatlantic.com/science/archive/2016/01/elsevier-academic-publishing-petition/427059/) involved. \n",
    "* A wide variety of subjects and authors\n",
    "\n",
    "There are four categories of papers:\n",
    "* Syntax\n",
    "* Morphology\n",
    "* Phonology\n",
    "* Semantics"
   ]
  },
  {
   "cell_type": "code",
   "execution_count": 1,
   "metadata": {
    "collapsed": true
   },
   "outputs": [],
   "source": [
    "import pandas as pd\n",
    "import json\n",
    "from sklearn.utils import shuffle"
   ]
  },
  {
   "cell_type": "markdown",
   "metadata": {},
   "source": [
    "Getting a list of all the urls to the pdfs, using scrapy:"
   ]
  },
  {
   "cell_type": "code",
   "execution_count": null,
   "metadata": {
    "collapsed": true
   },
   "outputs": [],
   "source": [
    "import scrapy\n",
    "\n",
    "class LingbuzzSpider(scrapy.Spider):\n",
    "    name = 'lingbuzz'\n",
    "\n",
    "    custom_settings = {\n",
    "        \"DOWNLOAD_DELAY\": 3,\n",
    "        \"CONCURRENT_REQUESTS_PER_DOMAIN\": 3,\n",
    "        \"HTTPCACHE_ENABLED\": True\n",
    "    }\n",
    "    \n",
    "    start_urls = ['https://ling.auf.net/']\n",
    "\n",
    "    def parse(self, response):\n",
    "        hrefs =[]\n",
    "        for href in response.xpath('//a[contains(text(), \"[pdf]\")]').extract():\n",
    "            yield {'url':href}\n",
    "\n",
    "        next_url = 'https://ling.auf.net'+response.xpath('//a[contains(text(), \"Next\")]/@href').extract()[-1]\n",
    "\n",
    "        yield scrapy.Request(url = next_url, callback=self.parse)"
   ]
  },
  {
   "cell_type": "code",
   "execution_count": 3,
   "metadata": {
    "collapsed": true
   },
   "outputs": [],
   "source": [
    "urls = pd.read_json('lingbuzz/lingbuzz.json', orient='records')"
   ]
  },
  {
   "cell_type": "markdown",
   "metadata": {},
   "source": [
    "These are partial urls, 'https://ling.auf.net' needs to be added before each of them in order for download to be possible. also, not all links go to actual pdfs, some just reroute somewhere else."
   ]
  },
  {
   "cell_type": "code",
   "execution_count": 9,
   "metadata": {
    "collapsed": true
   },
   "outputs": [],
   "source": [
    "final = []\n",
    "# not all of the actual pdf urls contain current... Some of them redirect to semantics archive or to Rutgers Uni. \n",
    "# Even worse: the urls to 'outside' pdfs are not stored in the same place on the website.\n",
    "for url in urls.url:\n",
    "    if \"current\" in url:\n",
    "        final.append('https://ling.auf.net'+url)    "
   ]
  },
  {
   "cell_type": "code",
   "execution_count": 11,
   "metadata": {},
   "outputs": [
    {
     "data": {
      "text/plain": [
       "3473"
      ]
     },
     "execution_count": 11,
     "metadata": {},
     "output_type": "execute_result"
    }
   ],
   "source": [
    "len(final)"
   ]
  },
  {
   "cell_type": "markdown",
   "metadata": {},
   "source": [
    "Randomly select 750 of the papers:"
   ]
  },
  {
   "cell_type": "code",
   "execution_count": 12,
   "metadata": {},
   "outputs": [],
   "source": [
    "subset = shuffle(final)[:750]"
   ]
  },
  {
   "cell_type": "code",
   "execution_count": 14,
   "metadata": {},
   "outputs": [
    {
     "data": {
      "text/plain": [
       "750"
      ]
     },
     "execution_count": 14,
     "metadata": {},
     "output_type": "execute_result"
    }
   ],
   "source": [
    "len(subset)"
   ]
  },
  {
   "cell_type": "markdown",
   "metadata": {},
   "source": [
    "Write the list of urls to a txt file, for massive download on remote."
   ]
  },
  {
   "cell_type": "code",
   "execution_count": 13,
   "metadata": {
    "collapsed": true
   },
   "outputs": [],
   "source": [
    "with open('urls.txt', 'w') as f:\n",
    "    for item in subset:\n",
    "        f.write(\"%s\\n\" % item)"
   ]
  },
  {
   "cell_type": "markdown",
   "metadata": {},
   "source": [
    "Needed: scrape the author, title, date, published in, keywords.  \n",
    "Problem: match this on the already converted txt files... I should have done that before extraction. I can match text files with the rest of the data based on title, using fuzzy matches or something like that.  \n",
    "## The better way:\n",
    "\n",
    "Get all the metadata with the urls to the pdfs, insert in MongoDB. Then, download a random subset of 750 pdfs. Convert pdfs and insert text immediately in MongoDB."
   ]
  },
  {
   "cell_type": "code",
   "execution_count": 15,
   "metadata": {
    "collapsed": true
   },
   "outputs": [],
   "source": [
    "import scrapy\n",
    "\n",
    "class LingbuzzSpider(scrapy.Spider):\n",
    "    name = 'lingbuzz_all2'\n",
    "\n",
    "    custom_settings = {\n",
    "        \"DOWNLOAD_DELAY\": 3,\n",
    "        \"CONCURRENT_REQUESTS_PER_DOMAIN\": 3,\n",
    "        \"HTTPCACHE_ENABLED\": True\n",
    "    }\n",
    "\n",
    "    \n",
    "    start_urls = ['https://ling.auf.net/']\n",
    "\n",
    "    def parse(self, response):\n",
    "        hrefs =[]\n",
    "        for href in response.xpath('//tr/td[4]/a/@href').extract():\n",
    "\n",
    "            yield scrapy.Request(\n",
    "                url= 'https://ling.auf.net/' + href,\n",
    "                callback=self.parse_paper,\n",
    "                meta={'url': response.xpath('//a[contains(text(), \"[pdf]\")]/@href').extract()}\n",
    "            )\n",
    "\n",
    "        next_url = 'https://ling.auf.net'+response.xpath('//a[contains(text(), \"Next\")]/@href').extract()[-1]\n",
    "\n",
    "        yield scrapy.Request(url = next_url, callback=self.parse)\n",
    "\n",
    "\n",
    "    def parse_paper(self, response):\n",
    "        url = response.request.meta['url']\n",
    "        title = response.xpath('//body/center//a/text()').extract()[0]\n",
    "        authors = response.xpath('//body/center//a/text()').extract()[1:]\n",
    "        try: \n",
    "            published = response.xpath('//td[contains(text(), \"Published in\")]/following-sibling::td/text()').extract()\n",
    "        except:\n",
    "            published = 'None'\n",
    "        keywords = response.xpath('//td[contains(text(), \"keywords\")]/following-sibling::td/text()').extract()\n",
    "\n",
    "        yield {\n",
    "        'title': title,\n",
    "        'authors': authors,\n",
    "        'published': published,\n",
    "        'keywords': keywords,\n",
    "        'url': url\n",
    "        }"
   ]
  }
 ],
 "metadata": {
  "kernelspec": {
   "display_name": "Python 3",
   "language": "python",
   "name": "python3"
  },
  "language_info": {
   "codemirror_mode": {
    "name": "ipython",
    "version": 3
   },
   "file_extension": ".py",
   "mimetype": "text/x-python",
   "name": "python",
   "nbconvert_exporter": "python",
   "pygments_lexer": "ipython3",
   "version": "3.6.1"
  }
 },
 "nbformat": 4,
 "nbformat_minor": 2
}
