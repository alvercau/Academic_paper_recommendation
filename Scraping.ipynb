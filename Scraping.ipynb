{
 "cells": [
  {
   "cell_type": "markdown",
   "metadata": {},
   "source": [
    "# Scraping Lingbuzz\n",
    "\n",
    "[LingBuzz](https://ling.auf.net/) is an openly accessible repository of scholarly papers, discussions and other documents for linguistics. \n",
    "The choice for this resource is of a practical nature:\n",
    "* Lingbuzz compiles a lot of linguistics papers (old and new, published or in process of publication), which permits scraping without having to jump all over the internet in search of open source papers.\n",
    "* Authors voluntarily submit their papers to Lingbuzz, no [money](https://www.theatlantic.com/science/archive/2016/01/elsevier-academic-publishing-petition/427059/) involved. \n",
    "* A wide variety of subjects and authors\n",
    "\n",
    "There are four categories of papers:\n",
    "* Syntax\n",
    "* Morphology\n",
    "* Phonology\n",
    "* Semantics"
   ]
  },
  {
   "cell_type": "code",
   "execution_count": 1,
   "metadata": {
    "collapsed": true
   },
   "outputs": [],
   "source": [
    "import pandas as pd\n",
    "import json\n",
    "from sklearn.utils import shuffle"
   ]
  },
  {
   "cell_type": "markdown",
   "metadata": {},
   "source": [
    "Getting a list of all the urls to the pdfs, using scrapy:"
   ]
  },
  {
   "cell_type": "code",
   "execution_count": null,
   "metadata": {
    "collapsed": true
   },
   "outputs": [],
   "source": [
    "import scrapy\n",
    "\n",
    "class LingbuzzSpider(scrapy.Spider):\n",
    "    name = 'lingbuzz'\n",
    "\n",
    "    custom_settings = {\n",
    "        \"DOWNLOAD_DELAY\": 3,\n",
    "        \"CONCURRENT_REQUESTS_PER_DOMAIN\": 3,\n",
    "        \"HTTPCACHE_ENABLED\": True\n",
    "    }\n",
    "    \n",
    "    start_urls = ['https://ling.auf.net/']\n",
    "\n",
    "    def parse(self, response):\n",
    "        hrefs =[]\n",
    "        for href in response.xpath('//a[contains(text(), \"[pdf]\")]').extract():\n",
    "            yield {'url':href}\n",
    "\n",
    "        next_url = 'https://ling.auf.net'+response.xpath('//a[contains(text(), \"Next\")]/@href').extract()[-1]\n",
    "\n",
    "        yield scrapy.Request(url = next_url, callback=self.parse)"
   ]
  },
  {
   "cell_type": "code",
   "execution_count": 3,
   "metadata": {
    "collapsed": true
   },
   "outputs": [],
   "source": [
    "urls = pd.read_json('lingbuzz/lingbuzz.json', orient='records')"
   ]
  },
  {
   "cell_type": "markdown",
   "metadata": {},
   "source": [
    "These are partial urls, 'https://ling.auf.net' needs to be added before each of them in order for download to be possible. also, not all links go to actual pdfs, some just reroute somewhere else."
   ]
  },
  {
   "cell_type": "code",
   "execution_count": 9,
   "metadata": {
    "collapsed": true
   },
   "outputs": [],
   "source": [
    "final = []\n",
    "for url in urls.url:\n",
    "    if \"current\" in url:\n",
    "        final.append('https://ling.auf.net'+url)    "
   ]
  },
  {
   "cell_type": "code",
   "execution_count": 11,
   "metadata": {},
   "outputs": [
    {
     "data": {
      "text/plain": [
       "3473"
      ]
     },
     "execution_count": 11,
     "metadata": {},
     "output_type": "execute_result"
    }
   ],
   "source": [
    "len(final)"
   ]
  },
  {
   "cell_type": "markdown",
   "metadata": {},
   "source": [
    "Randomly select 750 of the papers:"
   ]
  },
  {
   "cell_type": "code",
   "execution_count": 12,
   "metadata": {},
   "outputs": [],
   "source": [
    "subset = shuffle(final)[:750]"
   ]
  },
  {
   "cell_type": "code",
   "execution_count": 14,
   "metadata": {},
   "outputs": [
    {
     "data": {
      "text/plain": [
       "750"
      ]
     },
     "execution_count": 14,
     "metadata": {},
     "output_type": "execute_result"
    }
   ],
   "source": [
    "len(subset)"
   ]
  },
  {
   "cell_type": "markdown",
   "metadata": {},
   "source": [
    "Write the list of urls to a txt file, for massive download on remote."
   ]
  },
  {
   "cell_type": "code",
   "execution_count": 13,
   "metadata": {
    "collapsed": true
   },
   "outputs": [],
   "source": [
    "with open('urls.txt', 'w') as f:\n",
    "    for item in subset:\n",
    "        f.write(\"%s\\n\" % item)"
   ]
  }
 ],
 "metadata": {
  "kernelspec": {
   "display_name": "Python 3",
   "language": "python",
   "name": "python3"
  },
  "language_info": {
   "codemirror_mode": {
    "name": "ipython",
    "version": 3
   },
   "file_extension": ".py",
   "mimetype": "text/x-python",
   "name": "python",
   "nbconvert_exporter": "python",
   "pygments_lexer": "ipython3",
   "version": "3.6.1"
  }
 },
 "nbformat": 4,
 "nbformat_minor": 2
}
